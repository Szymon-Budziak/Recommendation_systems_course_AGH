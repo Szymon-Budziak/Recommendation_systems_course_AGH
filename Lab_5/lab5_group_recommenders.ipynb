{
 "cells": [
  {
   "cell_type": "markdown",
   "metadata": {},
   "source": [
    "# Laboratorium 5 - rekomendacje grupowe\n",
    "\n",
    "## Przygotowanie\n",
    "\n",
    " * pobierz i wypakuj dataset: https://files.grouplens.org/datasets/movielens/ml-latest-small.zip\n",
    "   * więcej możesz poczytać tutaj: https://grouplens.org/datasets/movielens/\n",
    " * [opcjonalnie] Utwórz wirtualne środowisko\n",
    " `python3 -m venv ./recsyslab5`\n",
    " * zainstaluj potrzebne biblioteki:\n",
    " `pip install numpy pandas matplotlib`"
   ]
  },
  {
   "cell_type": "markdown",
   "metadata": {},
   "source": [
    "## Część 1. - przygotowanie danych"
   ]
  },
  {
   "cell_type": "code",
   "execution_count": 1,
   "metadata": {
    "ExecuteTime": {
     "start_time": "2023-11-21T20:24:46.796148Z",
     "end_time": "2023-11-21T20:24:47.117200Z"
    }
   },
   "outputs": [],
   "source": [
    "# importujemy wszystkie potrzebne pakiety\n",
    "\n",
    "import pandas as pd\n",
    "from random import sample\n",
    "\n",
    "from reco_utils import *"
   ]
  },
  {
   "cell_type": "code",
   "execution_count": 2,
   "metadata": {
    "ExecuteTime": {
     "start_time": "2023-11-21T20:24:47.160099Z",
     "end_time": "2023-11-21T20:25:04.756145Z"
    }
   },
   "outputs": [
    {
     "name": "stdout",
     "output_type": "stream",
     "text": [
      "Total error: 215067.2923138497\n",
      "Total error: 208273.9028455605\n",
      "Total error: 201952.6848327329\n",
      "Total error: 196056.71228876026\n",
      "Total error: 190544.86374070394\n",
      "Total error: 185380.97885609418\n",
      "Total error: 180533.15612699883\n",
      "Total error: 175973.16471367877\n",
      "Total error: 171675.9493260957\n",
      "Total error: 167619.21142391817\n",
      "Total error: 163783.05340007946\n",
      "Total error: 160149.67503616813\n",
      "Total error: 156703.1135670967\n",
      "Total error: 153429.0203051623\n",
      "Total error: 150314.46805183607\n",
      "Total error: 147347.78454558997\n",
      "Total error: 144518.40801326072\n",
      "Total error: 141816.76155440713\n",
      "Total error: 139234.14362613967\n",
      "Total error: 136762.63233562806\n",
      "Total error: 134395.00160872555\n",
      "Total error: 132124.64760140347\n",
      "Total error: 129945.52396806458\n",
      "Total error: 127852.0848068786\n",
      "Total error: 125839.23427467182\n",
      "Total error: 123902.28200865047\n",
      "Total error: 122036.90361423152\n",
      "Total error: 120239.10558139798\n",
      "Total error: 118505.19407950502\n",
      "Total error: 116831.74715490236\n",
      "Total error: 115215.58991924905\n",
      "Total error: 113653.77237072411\n",
      "Total error: 112143.549536918\n",
      "Total error: 110682.36366821732\n",
      "Total error: 109267.82824497948\n",
      "Total error: 107897.71359154765\n",
      "Total error: 106569.93391588362\n",
      "Total error: 105282.5356158888\n",
      "Total error: 104033.68671282197\n",
      "Total error: 102821.6672890318\n",
      "Total error: 101644.86082186161\n",
      "Total error: 100501.74631834045\n",
      "Total error: 99390.89116641601\n",
      "Total error: 98310.94462822996\n",
      "Total error: 97260.63190946086\n",
      "Total error: 96238.74874624271\n",
      "Total error: 95244.15645772712\n",
      "Total error: 94275.77741813126\n",
      "Total error: 93332.59090718775\n",
      "Total error: 92413.62930238851\n",
      "Total error: 91517.9745803586\n",
      "Total error: 90644.75509818566\n",
      "Total error: 89793.14262860635\n",
      "Total error: 88962.34962568364\n",
      "Total error: 88151.62670002317\n",
      "Total error: 87360.26028472444\n",
      "Total error: 86587.57047516135\n",
      "Total error: 85832.90902738873\n",
      "Total error: 85095.65750147209\n",
      "Total error: 84375.22553738244\n",
      "Total error: 83671.04925230055\n",
      "Total error: 82982.58974923998\n",
      "Total error: 82309.33172785742\n",
      "Total error: 81650.7821891777\n",
      "Total error: 81006.46922672262\n",
      "Total error: 80375.94089722808\n",
      "Total error: 79758.76416474517\n",
      "Total error: 79154.52391248118\n",
      "Total error: 78562.82201723782\n",
      "Total error: 77983.27648174748\n",
      "Total error: 77415.52062062122\n",
      "Total error: 76859.20229599018\n",
      "Total error: 76313.98319924432\n",
      "Total error: 75779.53817558424\n",
      "Total error: 75255.55458836442\n",
      "Total error: 74741.73172045968\n",
      "Total error: 74237.78021010227\n",
      "Total error: 73743.42151885081\n",
      "Total error: 73258.38742952498\n",
      "Total error: 72782.41957212023\n",
      "Total error: 72315.26897586114\n",
      "Total error: 71856.69564569608\n",
      "Total error: 71406.46816166394\n",
      "Total error: 70964.36329967962\n",
      "Total error: 70530.16567239155\n",
      "Total error: 70103.6673888636\n",
      "Total error: 69684.66773192347\n",
      "Total error: 69272.97285210164\n",
      "Total error: 68868.39547716071\n",
      "Total error: 68470.75463628593\n",
      "Total error: 68079.87539807026\n",
      "Total error: 67695.58862148698\n",
      "Total error: 67317.73071909808\n",
      "Total error: 66946.1434317963\n",
      "Total error: 66580.67361442413\n",
      "Total error: 66221.1730316601\n",
      "Total error: 65867.49816359552\n",
      "Total error: 65519.510020468406\n",
      "Total error: 65177.073966052696\n",
      "Total error: 64840.059549230304\n",
      "Total error: 64508.3403433072\n",
      "Total error: 64181.79379265933\n",
      "Total error: 63860.30106631953\n",
      "Total error: 63543.7469181403\n",
      "Total error: 63232.01955319191\n",
      "Total error: 62925.01050007134\n",
      "Total error: 62622.614488818646\n",
      "Total error: 62324.729334158554\n",
      "Total error: 62031.255823793006\n",
      "Total error: 61742.09761149715\n",
      "Total error: 61457.16111477602\n",
      "Total error: 61176.35541685797\n",
      "Total error: 60899.59217281206\n",
      "Total error: 60626.78551958907\n",
      "Total error: 60357.85198979665\n",
      "Total error: 60092.71042902789\n",
      "Total error: 59831.281916576816\n",
      "Total error: 59573.489689376984\n",
      "Total error: 59319.25906901586\n",
      "Total error: 59068.51739167774\n",
      "Total error: 58821.19394088073\n",
      "Total error: 58577.2198828803\n",
      "Total error: 58336.528204615846\n",
      "Total error: 58099.05365408464\n",
      "Total error: 57864.73268303488\n",
      "Total error: 57633.50339187228\n",
      "Total error: 57405.30547668209\n",
      "Total error: 57180.08017827284\n",
      "Total error: 56957.7702331534\n",
      "Total error: 56738.319826356674\n",
      "Total error: 56521.674546031645\n",
      "Total error: 56307.78133972653\n",
      "Total error: 56096.58847229032\n",
      "Total error: 55888.04548532334\n",
      "Total error: 55682.10315811174\n",
      "Total error: 55478.71346998182\n",
      "Total error: 55277.829564016676\n",
      "Total error: 55079.40571207658\n",
      "Total error: 54883.39728106882\n",
      "Total error: 54689.76070041784\n",
      "Total error: 54498.45343068296\n",
      "Total error: 54309.433933279615\n",
      "Total error: 54122.66164125831\n",
      "Total error: 53938.096931098\n",
      "Total error: 53755.70109547464\n",
      "Total error: 53575.43631696423\n",
      "Total error: 53397.26564264586\n",
      "Total error: 53221.152959564766\n",
      "Total error: 53047.06297102736\n",
      "Total error: 52874.961173691474\n",
      "Total error: 52704.81383542159\n",
      "Total error: 52536.587973881775\n",
      "Total error: 52370.25133583504\n",
      "Total error: 52205.77237712384\n",
      "Total error: 52043.120243306075\n",
      "Total error: 51882.26475092014\n",
      "Total error: 51723.17636935667\n",
      "Total error: 51565.82620331445\n",
      "Total error: 51410.18597581717\n",
      "Total error: 51256.22801177267\n",
      "Total error: 51103.92522205173\n",
      "Total error: 50953.25108807054\n",
      "Total error: 50804.179646854835\n",
      "Total error: 50656.68547657239\n",
      "Total error: 50510.74368251304\n",
      "Total error: 50366.329883502534\n",
      "Total error: 50223.420198734\n",
      "Total error: 50081.99123500211\n",
      "Total error: 49942.02007432562\n",
      "Total error: 49803.48426194487\n",
      "Total error: 49666.36179468061\n",
      "Total error: 49530.631109642156\n",
      "Total error: 49396.2710732725\n",
      "Total error: 49263.26097071801\n",
      "Total error: 49131.580495512884\n",
      "Total error: 49001.20973956657\n",
      "Total error: 48872.12918344432\n",
      "Total error: 48744.31968693028\n",
      "Total error: 48617.76247986461\n",
      "Total error: 48492.43915324427\n",
      "Total error: 48368.331650580156\n",
      "Total error: 48245.422259499865\n",
      "Total error: 48123.69360359027\n",
      "Total error: 48003.12863447049\n",
      "Total error: 47883.71062408805\n",
      "Total error: 47765.423157231344\n",
      "Total error: 47648.25012425082\n",
      "Total error: 47532.17571398234\n",
      "Total error: 47417.18440686635\n",
      "Total error: 47303.260968256145\n",
      "Total error: 47190.39044191005\n",
      "Total error: 47078.55814366031\n",
      "Total error: 46967.74965525445\n",
      "Total error: 46857.95081836299\n",
      "Total error: 46749.14772874833\n",
      "Total error: 46641.326730589506\n",
      "Total error: 46534.474410959214\n",
      "Total error: 46428.57759444614\n",
      "Total error: 46323.623337921075\n",
      "Total error: 46219.5989254388\n",
      "Total error: 46116.49186327585\n",
      "Total error: 46014.289875095325\n",
      "Total error: 45912.98089723945\n",
      "Total error: 45812.55307414214\n",
      "Total error: 45712.99475386128\n"
     ]
    },
    {
     "data": {
      "text/plain": "     1       2       3       4       5       6       7       8       9       \\\n1         6       7       6       7       5       5      10       4       8   \n2         4       2       6       0      10      10       1      10       3   \n3        10      10       5       9       0       5       0       8       7   \n4         7       6       3       2       4      10       6       7       5   \n5         5       4       1       0       5      10      10      10      10   \n..      ...     ...     ...     ...     ...     ...     ...     ...     ...   \n606       6       6       5       6       6       6       6       6       6   \n607       8       6       7       5       0       4       3       6       3   \n608       6       6       6       6       6       6       6       6       6   \n609       3      10       6      10       2       0      10       0       4   \n610       6       6       5       6       6       6       7       6       6   \n\n     10      ...  193565  193567  193571  193573  193579  193581  193583  \\\n1         6  ...       7      10       8       4      10       4       5   \n2         8  ...       8       0       1       8       0      10       4   \n3         9  ...       3      10       1      10      10       0       0   \n4         4  ...       7       5       8       3       1       5       3   \n5         0  ...       6       3       0       4      10       1       0   \n..      ...  ...     ...     ...     ...     ...     ...     ...     ...   \n606       6  ...       6       7       6       6       6       5       6   \n607       5  ...       3       6       8       4       4       5       1   \n608       6  ...       6       6       6       6       6       6       7   \n609       9  ...       6      10       6       7      10       9      10   \n610       6  ...       6       6       6       6       7       6       6   \n\n     193585  193587  193609  \n1         5       6       6  \n2         2       5       7  \n3         5       2       0  \n4         7       4       7  \n5         0       0       5  \n..      ...     ...     ...  \n606       6       6       6  \n607       7       4       6  \n608       6       6       6  \n609       5      10      10  \n610       6       6       6  \n\n[610 rows x 9724 columns]",
      "text/html": "<div>\n<style scoped>\n    .dataframe tbody tr th:only-of-type {\n        vertical-align: middle;\n    }\n\n    .dataframe tbody tr th {\n        vertical-align: top;\n    }\n\n    .dataframe thead th {\n        text-align: right;\n    }\n</style>\n<table border=\"1\" class=\"dataframe\">\n  <thead>\n    <tr style=\"text-align: right;\">\n      <th></th>\n      <th>1</th>\n      <th>2</th>\n      <th>3</th>\n      <th>4</th>\n      <th>5</th>\n      <th>6</th>\n      <th>7</th>\n      <th>8</th>\n      <th>9</th>\n      <th>10</th>\n      <th>...</th>\n      <th>193565</th>\n      <th>193567</th>\n      <th>193571</th>\n      <th>193573</th>\n      <th>193579</th>\n      <th>193581</th>\n      <th>193583</th>\n      <th>193585</th>\n      <th>193587</th>\n      <th>193609</th>\n    </tr>\n  </thead>\n  <tbody>\n    <tr>\n      <th>1</th>\n      <td>6</td>\n      <td>7</td>\n      <td>6</td>\n      <td>7</td>\n      <td>5</td>\n      <td>5</td>\n      <td>10</td>\n      <td>4</td>\n      <td>8</td>\n      <td>6</td>\n      <td>...</td>\n      <td>7</td>\n      <td>10</td>\n      <td>8</td>\n      <td>4</td>\n      <td>10</td>\n      <td>4</td>\n      <td>5</td>\n      <td>5</td>\n      <td>6</td>\n      <td>6</td>\n    </tr>\n    <tr>\n      <th>2</th>\n      <td>4</td>\n      <td>2</td>\n      <td>6</td>\n      <td>0</td>\n      <td>10</td>\n      <td>10</td>\n      <td>1</td>\n      <td>10</td>\n      <td>3</td>\n      <td>8</td>\n      <td>...</td>\n      <td>8</td>\n      <td>0</td>\n      <td>1</td>\n      <td>8</td>\n      <td>0</td>\n      <td>10</td>\n      <td>4</td>\n      <td>2</td>\n      <td>5</td>\n      <td>7</td>\n    </tr>\n    <tr>\n      <th>3</th>\n      <td>10</td>\n      <td>10</td>\n      <td>5</td>\n      <td>9</td>\n      <td>0</td>\n      <td>5</td>\n      <td>0</td>\n      <td>8</td>\n      <td>7</td>\n      <td>9</td>\n      <td>...</td>\n      <td>3</td>\n      <td>10</td>\n      <td>1</td>\n      <td>10</td>\n      <td>10</td>\n      <td>0</td>\n      <td>0</td>\n      <td>5</td>\n      <td>2</td>\n      <td>0</td>\n    </tr>\n    <tr>\n      <th>4</th>\n      <td>7</td>\n      <td>6</td>\n      <td>3</td>\n      <td>2</td>\n      <td>4</td>\n      <td>10</td>\n      <td>6</td>\n      <td>7</td>\n      <td>5</td>\n      <td>4</td>\n      <td>...</td>\n      <td>7</td>\n      <td>5</td>\n      <td>8</td>\n      <td>3</td>\n      <td>1</td>\n      <td>5</td>\n      <td>3</td>\n      <td>7</td>\n      <td>4</td>\n      <td>7</td>\n    </tr>\n    <tr>\n      <th>5</th>\n      <td>5</td>\n      <td>4</td>\n      <td>1</td>\n      <td>0</td>\n      <td>5</td>\n      <td>10</td>\n      <td>10</td>\n      <td>10</td>\n      <td>10</td>\n      <td>0</td>\n      <td>...</td>\n      <td>6</td>\n      <td>3</td>\n      <td>0</td>\n      <td>4</td>\n      <td>10</td>\n      <td>1</td>\n      <td>0</td>\n      <td>0</td>\n      <td>0</td>\n      <td>5</td>\n    </tr>\n    <tr>\n      <th>...</th>\n      <td>...</td>\n      <td>...</td>\n      <td>...</td>\n      <td>...</td>\n      <td>...</td>\n      <td>...</td>\n      <td>...</td>\n      <td>...</td>\n      <td>...</td>\n      <td>...</td>\n      <td>...</td>\n      <td>...</td>\n      <td>...</td>\n      <td>...</td>\n      <td>...</td>\n      <td>...</td>\n      <td>...</td>\n      <td>...</td>\n      <td>...</td>\n      <td>...</td>\n      <td>...</td>\n    </tr>\n    <tr>\n      <th>606</th>\n      <td>6</td>\n      <td>6</td>\n      <td>5</td>\n      <td>6</td>\n      <td>6</td>\n      <td>6</td>\n      <td>6</td>\n      <td>6</td>\n      <td>6</td>\n      <td>6</td>\n      <td>...</td>\n      <td>6</td>\n      <td>7</td>\n      <td>6</td>\n      <td>6</td>\n      <td>6</td>\n      <td>5</td>\n      <td>6</td>\n      <td>6</td>\n      <td>6</td>\n      <td>6</td>\n    </tr>\n    <tr>\n      <th>607</th>\n      <td>8</td>\n      <td>6</td>\n      <td>7</td>\n      <td>5</td>\n      <td>0</td>\n      <td>4</td>\n      <td>3</td>\n      <td>6</td>\n      <td>3</td>\n      <td>5</td>\n      <td>...</td>\n      <td>3</td>\n      <td>6</td>\n      <td>8</td>\n      <td>4</td>\n      <td>4</td>\n      <td>5</td>\n      <td>1</td>\n      <td>7</td>\n      <td>4</td>\n      <td>6</td>\n    </tr>\n    <tr>\n      <th>608</th>\n      <td>6</td>\n      <td>6</td>\n      <td>6</td>\n      <td>6</td>\n      <td>6</td>\n      <td>6</td>\n      <td>6</td>\n      <td>6</td>\n      <td>6</td>\n      <td>6</td>\n      <td>...</td>\n      <td>6</td>\n      <td>6</td>\n      <td>6</td>\n      <td>6</td>\n      <td>6</td>\n      <td>6</td>\n      <td>7</td>\n      <td>6</td>\n      <td>6</td>\n      <td>6</td>\n    </tr>\n    <tr>\n      <th>609</th>\n      <td>3</td>\n      <td>10</td>\n      <td>6</td>\n      <td>10</td>\n      <td>2</td>\n      <td>0</td>\n      <td>10</td>\n      <td>0</td>\n      <td>4</td>\n      <td>9</td>\n      <td>...</td>\n      <td>6</td>\n      <td>10</td>\n      <td>6</td>\n      <td>7</td>\n      <td>10</td>\n      <td>9</td>\n      <td>10</td>\n      <td>5</td>\n      <td>10</td>\n      <td>10</td>\n    </tr>\n    <tr>\n      <th>610</th>\n      <td>6</td>\n      <td>6</td>\n      <td>5</td>\n      <td>6</td>\n      <td>6</td>\n      <td>6</td>\n      <td>7</td>\n      <td>6</td>\n      <td>6</td>\n      <td>6</td>\n      <td>...</td>\n      <td>6</td>\n      <td>6</td>\n      <td>6</td>\n      <td>6</td>\n      <td>7</td>\n      <td>6</td>\n      <td>6</td>\n      <td>6</td>\n      <td>6</td>\n      <td>6</td>\n    </tr>\n  </tbody>\n</table>\n<p>610 rows × 9724 columns</p>\n</div>"
     },
     "execution_count": 2,
     "metadata": {},
     "output_type": "execute_result"
    }
   ],
   "source": [
    "# wczytujemy oceny uytkownikow i obliczamy (za pomocą collaborative filtering) wszystkie przewidywane oceny filmow\n",
    "\n",
    "raw_ratings = pd.read_csv('ml-latest-small/ratings.csv').drop(columns=['timestamp'])\n",
    "movies = list(raw_ratings['movieId'].unique())\n",
    "users = list(raw_ratings['userId'].unique())\n",
    "ratings = get_predicted_ratings(raw_ratings)\n",
    "ratings"
   ]
  },
  {
   "cell_type": "code",
   "execution_count": 3,
   "metadata": {
    "ExecuteTime": {
     "start_time": "2023-11-21T20:25:04.762696Z",
     "end_time": "2023-11-21T20:25:04.809966Z"
    }
   },
   "outputs": [
    {
     "data": {
      "text/plain": "                                             title  \\\nmovieId                                              \n1                                 Toy Story (1995)   \n2                                   Jumanji (1995)   \n3                          Grumpier Old Men (1995)   \n4                         Waiting to Exhale (1995)   \n5               Father of the Bride Part II (1995)   \n...                                            ...   \n193581   Black Butler: Book of the Atlantic (2017)   \n193583                No Game No Life: Zero (2017)   \n193585                                Flint (2017)   \n193587         Bungo Stray Dogs: Dead Apple (2018)   \n193609         Andrew Dice Clay: Dice Rules (1991)   \n\n                                              genres  \nmovieId                                               \n1        Adventure|Animation|Children|Comedy|Fantasy  \n2                         Adventure|Children|Fantasy  \n3                                     Comedy|Romance  \n4                               Comedy|Drama|Romance  \n5                                             Comedy  \n...                                              ...  \n193581               Action|Animation|Comedy|Fantasy  \n193583                      Animation|Comedy|Fantasy  \n193585                                         Drama  \n193587                              Action|Animation  \n193609                                        Comedy  \n\n[9742 rows x 2 columns]",
      "text/html": "<div>\n<style scoped>\n    .dataframe tbody tr th:only-of-type {\n        vertical-align: middle;\n    }\n\n    .dataframe tbody tr th {\n        vertical-align: top;\n    }\n\n    .dataframe thead th {\n        text-align: right;\n    }\n</style>\n<table border=\"1\" class=\"dataframe\">\n  <thead>\n    <tr style=\"text-align: right;\">\n      <th></th>\n      <th>title</th>\n      <th>genres</th>\n    </tr>\n    <tr>\n      <th>movieId</th>\n      <th></th>\n      <th></th>\n    </tr>\n  </thead>\n  <tbody>\n    <tr>\n      <th>1</th>\n      <td>Toy Story (1995)</td>\n      <td>Adventure|Animation|Children|Comedy|Fantasy</td>\n    </tr>\n    <tr>\n      <th>2</th>\n      <td>Jumanji (1995)</td>\n      <td>Adventure|Children|Fantasy</td>\n    </tr>\n    <tr>\n      <th>3</th>\n      <td>Grumpier Old Men (1995)</td>\n      <td>Comedy|Romance</td>\n    </tr>\n    <tr>\n      <th>4</th>\n      <td>Waiting to Exhale (1995)</td>\n      <td>Comedy|Drama|Romance</td>\n    </tr>\n    <tr>\n      <th>5</th>\n      <td>Father of the Bride Part II (1995)</td>\n      <td>Comedy</td>\n    </tr>\n    <tr>\n      <th>...</th>\n      <td>...</td>\n      <td>...</td>\n    </tr>\n    <tr>\n      <th>193581</th>\n      <td>Black Butler: Book of the Atlantic (2017)</td>\n      <td>Action|Animation|Comedy|Fantasy</td>\n    </tr>\n    <tr>\n      <th>193583</th>\n      <td>No Game No Life: Zero (2017)</td>\n      <td>Animation|Comedy|Fantasy</td>\n    </tr>\n    <tr>\n      <th>193585</th>\n      <td>Flint (2017)</td>\n      <td>Drama</td>\n    </tr>\n    <tr>\n      <th>193587</th>\n      <td>Bungo Stray Dogs: Dead Apple (2018)</td>\n      <td>Action|Animation</td>\n    </tr>\n    <tr>\n      <th>193609</th>\n      <td>Andrew Dice Clay: Dice Rules (1991)</td>\n      <td>Comedy</td>\n    </tr>\n  </tbody>\n</table>\n<p>9742 rows × 2 columns</p>\n</div>"
     },
     "execution_count": 3,
     "metadata": {},
     "output_type": "execute_result"
    }
   ],
   "source": [
    "# wczytujemy nazwy filmow i kategorie\n",
    "\n",
    "movies_metadata = pd.read_csv('ml-latest-small/movies.csv').set_index('movieId')\n",
    "movies_metadata"
   ]
  },
  {
   "cell_type": "code",
   "execution_count": 4,
   "metadata": {
    "ExecuteTime": {
     "start_time": "2023-11-21T20:25:04.783910Z",
     "end_time": "2023-11-21T20:25:04.832283Z"
    }
   },
   "outputs": [
    {
     "data": {
      "text/plain": "[[111, 307, 474, 599, 414],\n [469, 182, 232, 448, 600],\n [508, 581, 497, 402, 566],\n [300, 515, 245, 568, 507],\n [2, 371, 252, 518, 37],\n [269, 360, 469, 287, 308],\n [243, 527, 418, 118, 370],\n [186, 559, 327, 553, 314]]"
     },
     "execution_count": 4,
     "metadata": {},
     "output_type": "execute_result"
    }
   ],
   "source": [
    "# wczytujemy przykladowe grupy uzytkownikow\n",
    "groups = pd.read_csv('groups.csv').values.tolist()\n",
    "groups"
   ]
  },
  {
   "cell_type": "code",
   "execution_count": 5,
   "metadata": {
    "ExecuteTime": {
     "start_time": "2023-11-21T20:25:04.801869Z",
     "end_time": "2023-11-21T20:25:04.832559Z"
    }
   },
   "outputs": [
    {
     "name": "stdout",
     "output_type": "stream",
     "text": [
      "\n",
      "\n",
      "User ids: [508, 581, 497, 402, 566]\n",
      "\n",
      "Mean ratings deviation: 3.378309503367405\n",
      "Median ratings deviation: 3.507135583350036\n",
      "Standard deviation of ratings deviation: 0.9510345634922845\n",
      "\n",
      "Best movies:\n",
      "Arthur Christmas (2011), 9.2*\n",
      "Gleaners & I, The (Les glaneurs et la glaneuse) (2000), 9.2*\n",
      "Drift (2013), 9.0*\n",
      "Uncle Buck (1989), 9.0*\n",
      "Decoy Bride, The (2011), 9.0*\n",
      "Secrets & Lies (1996), 9.0*\n",
      "First Snow (2006), 9.0*\n",
      "Dark Half, The (1993), 9.0*\n",
      "Cashback (2006), 9.0*\n",
      "Robin-B-Hood (Bo bui gai wak) (2006), 9.0*\n",
      "\n",
      "Worst movies:\n",
      "Look Who's Talking Too (1990), 1.4*\n",
      "Wet Hot American Summer (2001), 1.6*\n",
      "Marked for Death (1990), 1.8*\n",
      "Alex and Emma (2003), 2.0*\n",
      "Going in Style (1979), 2.0*\n",
      "High Heels and Low Lifes (2001), 2.0*\n",
      "Bogus (1996), 2.2*\n",
      "Once Bitten (1985), 2.2*\n",
      "Fun (1994), 2.2*\n",
      "1900 (Novecento) (1976), 2.2*\n"
     ]
    }
   ],
   "source": [
    "# przygotowujemy funkcje pomocnicza\n",
    "\n",
    "def describe_group(group, N=10):\n",
    "    print(f'\\n\\nUser ids: {group}')\n",
    "\n",
    "    mean_stdev = ratings.loc[group].std(axis=0).mean()\n",
    "    median_stdev = ratings.loc[group].std(axis=0).median()\n",
    "    std_stdev = ratings.loc[group].std(axis=0).std()\n",
    "    print(f'\\nMean ratings deviation: {mean_stdev}')\n",
    "    print(f'Median ratings deviation: {median_stdev}')\n",
    "    print(f'Standard deviation of ratings deviation: {std_stdev}')\n",
    "\n",
    "    average_scores = ratings.iloc[group].mean(axis=0)\n",
    "    average_scores = average_scores.sort_values()\n",
    "    best_movies = [(movies_metadata['title'][movie_id], average_scores[movie_id]) for movie_id in\n",
    "                   list(average_scores[-N:].index)]\n",
    "    worst_movies = [(movies_metadata['title'][movie_id], average_scores[movie_id]) for movie_id in\n",
    "                    list(average_scores[:N].index)]\n",
    "\n",
    "    print('\\nBest movies:')\n",
    "    for movie, score in best_movies[::-1]:\n",
    "        print(f'{movie}, {score}*')\n",
    "    print('\\nWorst movies:')\n",
    "    for movie, score in worst_movies:\n",
    "        print(f'{movie}, {score}*')\n",
    "\n",
    "\n",
    "describe_group(groups[2])"
   ]
  },
  {
   "cell_type": "markdown",
   "metadata": {},
   "source": [
    "## Część 2. - algorytmy proste"
   ]
  },
  {
   "cell_type": "code",
   "execution_count": 6,
   "metadata": {
    "ExecuteTime": {
     "start_time": "2023-11-21T20:25:04.816403Z",
     "end_time": "2023-11-21T20:25:04.964119Z"
    }
   },
   "outputs": [],
   "source": [
    "# zdefiniujmy interfejs dla wszystkich algorytmow rekomendacyjnych\n",
    "\n",
    "class Recommender:\n",
    "    def recommend(self, movies, ratings, group, size):\n",
    "        pass\n",
    "\n",
    "\n",
    "# jako pierwszy zaimplementujemy algorytm losowy - dla porownania\n",
    "\n",
    "class RandomRecommender(Recommender):\n",
    "    def __init__(self):\n",
    "        self.name = 'random'\n",
    "\n",
    "    def recommend(self, movies, ratings, group, size):\n",
    "        return sample(movies, size)"
   ]
  },
  {
   "cell_type": "code",
   "execution_count": 7,
   "outputs": [
    {
     "data": {
      "text/plain": "[5466, 1562, 7027, 3917, 56003]"
     },
     "execution_count": 7,
     "metadata": {},
     "output_type": "execute_result"
    }
   ],
   "source": [
    "RandomRecommender().recommend(movies, ratings, groups[4], 5)"
   ],
   "metadata": {
    "collapsed": false,
    "ExecuteTime": {
     "start_time": "2023-11-21T20:25:04.852303Z",
     "end_time": "2023-11-21T20:25:04.964516Z"
    }
   }
  },
  {
   "cell_type": "code",
   "execution_count": 8,
   "metadata": {
    "ExecuteTime": {
     "start_time": "2023-11-21T20:25:04.852403Z",
     "end_time": "2023-11-21T20:25:04.964667Z"
    }
   },
   "outputs": [],
   "source": [
    "# algorytm rekomendujacy filmy o najwyzszej sredniej ocen\n",
    "\n",
    "class AverageRecommender(Recommender):\n",
    "    def __init__(self):\n",
    "        self.name = 'average'\n",
    "\n",
    "    def recommend(self, movies, ratings, group, size):\n",
    "        return ratings.loc[group].mean(axis=0).nlargest(size).index.tolist()"
   ]
  },
  {
   "cell_type": "code",
   "execution_count": 9,
   "outputs": [
    {
     "data": {
      "text/plain": "[1734, 2330, 3766, 4770, 5443]"
     },
     "execution_count": 9,
     "metadata": {},
     "output_type": "execute_result"
    }
   ],
   "source": [
    "AverageRecommender().recommend(movies, ratings, groups[2], 5)"
   ],
   "metadata": {
    "collapsed": false,
    "ExecuteTime": {
     "start_time": "2023-11-21T20:25:04.852475Z",
     "end_time": "2023-11-21T20:25:04.964861Z"
    }
   }
  },
  {
   "cell_type": "code",
   "execution_count": 10,
   "metadata": {
    "ExecuteTime": {
     "start_time": "2023-11-21T20:25:04.852549Z",
     "end_time": "2023-11-21T20:25:04.964963Z"
    }
   },
   "outputs": [],
   "source": [
    "# algorytm rekomendujacy filmy o najwyzszej sredniej ocen,\n",
    "#   ale rownoczesnie wykluczajacy te filmy, ktore otrzymaly choc jedna ocene ponizej thresholdu\n",
    "\n",
    "class AverageWithoutMiseryRecommender(Recommender):\n",
    "    def __init__(self, score_threshold):\n",
    "        self.name = 'average_without_misery'\n",
    "        self.score_threshold = score_threshold\n",
    "\n",
    "    def recommend(self, movies, ratings, group, size):\n",
    "        filtered_columns = (ratings.loc[group] >= self.score_threshold).all()\n",
    "        return ratings.loc[group, filtered_columns.tolist()].mean(axis=0).nlargest(size).index.tolist()"
   ]
  },
  {
   "cell_type": "code",
   "execution_count": 11,
   "outputs": [
    {
     "data": {
      "text/plain": "[3833, 4826, 6187, 7037, 69251]"
     },
     "execution_count": 11,
     "metadata": {},
     "output_type": "execute_result"
    }
   ],
   "source": [
    "AverageWithoutMiseryRecommender(4).recommend(movies, ratings, groups[1], 5)"
   ],
   "metadata": {
    "collapsed": false,
    "ExecuteTime": {
     "start_time": "2023-11-21T20:25:04.852611Z",
     "end_time": "2023-11-21T20:25:04.965301Z"
    }
   }
  },
  {
   "cell_type": "code",
   "execution_count": 12,
   "metadata": {
    "ExecuteTime": {
     "start_time": "2023-11-21T20:25:04.876947Z",
     "end_time": "2023-11-21T20:25:04.996419Z"
    }
   },
   "outputs": [],
   "source": [
    "# algorytm uwzgledniajacy preferencje tylko jednego uzytkownika w kazdej iteracji\n",
    "\n",
    "class FairnessRecommender(Recommender):\n",
    "    def __init__(self):\n",
    "        self.name = 'fairness'\n",
    "\n",
    "    def recommend(self, movies, ratings, group, size):\n",
    "        recommendation = []\n",
    "        ratings_copy = ratings.copy(deep=True)\n",
    "\n",
    "        for i in range(size):\n",
    "            # Determine the user from the group based on the current iteration\n",
    "            user = i % len(group)\n",
    "\n",
    "            # Find the movie with the highest rating for the selected user\n",
    "            chosen_movie = ratings_copy.loc[group[user]].idxmax()\n",
    "            recommendation.append(chosen_movie)\n",
    "\n",
    "            # Set the rating for the chosen movie to 0 for all users in the group\n",
    "            ratings_copy.loc[group, [chosen_movie]] = 0\n",
    "\n",
    "        return recommendation"
   ]
  },
  {
   "cell_type": "code",
   "execution_count": 13,
   "outputs": [
    {
     "data": {
      "text/plain": "[5, 9, 1, 8, 3]"
     },
     "execution_count": 13,
     "metadata": {},
     "output_type": "execute_result"
    }
   ],
   "source": [
    "FairnessRecommender().recommend(movies, ratings, groups[6], 5)"
   ],
   "metadata": {
    "collapsed": false,
    "ExecuteTime": {
     "start_time": "2023-11-21T20:25:04.920129Z",
     "end_time": "2023-11-21T20:25:05.030740Z"
    }
   }
  },
  {
   "cell_type": "code",
   "execution_count": 14,
   "metadata": {
    "ExecuteTime": {
     "start_time": "2023-11-21T20:25:04.920215Z",
     "end_time": "2023-11-21T20:25:05.030911Z"
    }
   },
   "outputs": [],
   "source": [
    "# wybrany algorytm wyborczy (dyktatura, glosowanie proste, Borda, Copeland)\n",
    "\n",
    "class VotingRecommender(Recommender):\n",
    "    def __init__(self):\n",
    "        self.name = 'borda'\n",
    "\n",
    "    def recommend(self, movies, ratings, group, size):\n",
    "        user_points = ratings.loc[group].copy(deep=True)\n",
    "\n",
    "        for user_id in group:\n",
    "            # Sort user ratings in descending order\n",
    "            sorted_user_ratings = ratings.loc[user_id].sort_values(ascending=False)\n",
    "\n",
    "            # Initialize counter for Borda count\n",
    "            counter = len(sorted_user_ratings)\n",
    "\n",
    "            # Assign Borda count values to user_points DataFrame\n",
    "            for i, value in sorted_user_ratings.items():\n",
    "                user_points.loc[user_id, i] = counter\n",
    "                counter -= 1\n",
    "\n",
    "        # Sum Borda count values across users, recommend top movies and return them\n",
    "        return user_points.sum(axis=0).nlargest(size).index.tolist()"
   ]
  },
  {
   "cell_type": "code",
   "execution_count": 15,
   "outputs": [
    {
     "data": {
      "text/plain": "[4610, 3598, 2474, 3990, 2922]"
     },
     "execution_count": 15,
     "metadata": {},
     "output_type": "execute_result"
    }
   ],
   "source": [
    "VotingRecommender().recommend(movies, ratings, groups[3], 5)"
   ],
   "metadata": {
    "collapsed": false,
    "ExecuteTime": {
     "start_time": "2023-11-21T20:25:04.921295Z",
     "end_time": "2023-11-21T20:25:07.349001Z"
    }
   }
  },
  {
   "cell_type": "code",
   "execution_count": 16,
   "metadata": {
    "ExecuteTime": {
     "start_time": "2023-11-21T20:25:07.355819Z",
     "end_time": "2023-11-21T20:25:07.357889Z"
    }
   },
   "outputs": [],
   "source": [
    "# algorytm zachlanny, aproksymujacy metode Proportional Approval Voting\n",
    "# w kazdej iteracji wybieramy ten film, ktory najbardziej zwieksza zadowolenie zgodnie z punktacja PAV\n",
    "\n",
    "class ProportionalApprovalVotingRecommender(Recommender):\n",
    "    def __init__(self, threshold):\n",
    "        self.threshold = threshold\n",
    "        self.name = 'PAV'\n",
    "\n",
    "    def recommend(self, movies, ratings, group, size):\n",
    "        # Initialize user points for each user in the group\n",
    "        user_points = {user: 1 for user in group}\n",
    "\n",
    "        # Identify user preferences based on the threshold\n",
    "        user_preferences = ratings.loc[group] >= self.threshold\n",
    "\n",
    "        # Initialize user satisfactions count for each user in the group\n",
    "        user_satisfactions_number = {user: 0 for user in group}\n",
    "\n",
    "        # Initialize a DataFrame to store user satisfaction values\n",
    "        user_satisfaction = pd.DataFrame(0, index=ratings.loc[group].index, columns=ratings.columns)\n",
    "\n",
    "        recommendation = []\n",
    "        for _ in range(size):\n",
    "            # Loop through movies to calculate user satisfaction\n",
    "            for movie in ratings.columns:\n",
    "                for user in group:\n",
    "                    # If the user prefers the movie, assign user points to the satisfaction\n",
    "                    if user_preferences.loc[user, movie]:\n",
    "                        user_satisfaction.loc[user, movie] = user_points[user]\n",
    "\n",
    "            # Select the movie with the maximum total user satisfaction\n",
    "            recommended_movie = user_satisfaction.loc[group, ratings.columns.difference(recommendation).tolist()].sum(\n",
    "                axis=0).idxmax()\n",
    "            recommendation.append(recommended_movie)\n",
    "\n",
    "            # Update user satisfactions count based on the recommendation\n",
    "            for user in group:\n",
    "                if user_preferences.loc[user, recommended_movie]:\n",
    "                    user_satisfactions_number[user] += 1\n",
    "                    user_points[user] = 1 / (user_satisfactions_number[user] + 1)\n",
    "\n",
    "        return recommendation"
   ]
  },
  {
   "cell_type": "code",
   "execution_count": 17,
   "outputs": [
    {
     "name": "stderr",
     "output_type": "stream",
     "text": [
      "/tmp/ipykernel_10397/805748974.py:29: FutureWarning: Setting an item of incompatible dtype is deprecated and will raise in a future error of pandas. Value '0.5' has dtype incompatible with int64, please explicitly cast to a compatible dtype first.\n",
      "  user_satisfaction.loc[user, movie] = user_points[user]\n",
      "/tmp/ipykernel_10397/805748974.py:29: FutureWarning: Setting an item of incompatible dtype is deprecated and will raise in a future error of pandas. Value '0.5' has dtype incompatible with int64, please explicitly cast to a compatible dtype first.\n",
      "  user_satisfaction.loc[user, movie] = user_points[user]\n"
     ]
    },
    {
     "data": {
      "text/plain": "[325, 662, 102058, 2272, 5767]"
     },
     "execution_count": 17,
     "metadata": {},
     "output_type": "execute_result"
    }
   ],
   "source": [
    "ProportionalApprovalVotingRecommender(7).recommend(movies, ratings, groups[0], 5)"
   ],
   "metadata": {
    "collapsed": false,
    "ExecuteTime": {
     "start_time": "2023-11-21T20:25:07.358487Z",
     "end_time": "2023-11-21T20:25:11.778385Z"
    }
   }
  },
  {
   "cell_type": "markdown",
   "metadata": {},
   "source": [
    "## Część 3. - funkcje celu"
   ]
  },
  {
   "cell_type": "code",
   "execution_count": 18,
   "metadata": {
    "ExecuteTime": {
     "start_time": "2023-11-21T20:25:11.783244Z",
     "end_time": "2023-11-21T20:25:11.785407Z"
    }
   },
   "outputs": [],
   "source": [
    "# dwie funkcje pomocnicze:\n",
    "#  - znajdujaca ulubione filmy danego uzytkownika\n",
    "#  - obliczajaca sume ocen wystawionych przez uzytkownika wszystkim filmom w rekomendacji\n",
    "\n",
    "def top_n_movies_for_user(ratings, movies, user_id, n):\n",
    "    return ratings.loc[user_id].nlargest(n).index.tolist()\n",
    "\n",
    "\n",
    "def total_score(recommendation, user_id, ratings):\n",
    "    return ratings.loc[user_id, recommendation].sum()"
   ]
  },
  {
   "cell_type": "code",
   "execution_count": 19,
   "outputs": [
    {
     "data": {
      "text/plain": "[1, 2, 18, 22, 26]"
     },
     "execution_count": 19,
     "metadata": {},
     "output_type": "execute_result"
    }
   ],
   "source": [
    "top_n_movies_for_user(ratings, movies, 3, 5)"
   ],
   "metadata": {
    "collapsed": false,
    "ExecuteTime": {
     "start_time": "2023-11-21T20:25:11.787175Z",
     "end_time": "2023-11-21T20:25:11.793998Z"
    }
   }
  },
  {
   "cell_type": "code",
   "execution_count": 20,
   "metadata": {
    "ExecuteTime": {
     "start_time": "2023-11-21T20:25:11.798093Z",
     "end_time": "2023-11-21T20:25:11.826146Z"
    }
   },
   "outputs": [],
   "source": [
    "# funkcja obliczajaca zadowolenie pojedynczego uzytkownika\n",
    "#  - iloraz zadowolenia z wygenerowanej rekomendacji oraz zadowolenia z hipotetycznej rekomendacji idealnej\n",
    "def overall_user_satisfaction(recommendation, user_id, movies, ratings):\n",
    "    real_score = total_score(recommendation, user_id, ratings)\n",
    "    user_top_n_recommendation = top_n_movies_for_user(ratings, movies, user_id, len(recommendation))\n",
    "    ideal_score = total_score(user_top_n_recommendation, user_id, ratings)\n",
    "    return real_score / ideal_score\n",
    "\n",
    "\n",
    "# funkcja celu - srednia z zadowolenia wszystkich uzytkownikow w grupie\n",
    "def overall_group_satisfaction(recommendation, group, movies, ratings):\n",
    "    return sum(overall_user_satisfaction(recommendation, user_id, movies, ratings) for user_id in group) / len(group)\n",
    "\n",
    "\n",
    "# funkcja celu - roznica miedzy maksymalnym i minimalnym zadowolenie w grupie\n",
    "def group_disagreement(recommendation, group, movies, ratings):\n",
    "    each_user_satisfaction = [overall_user_satisfaction(recommendation, user_id, movies, ratings) for user_id in group]\n",
    "    return max(each_user_satisfaction) - min(each_user_satisfaction)"
   ]
  },
  {
   "cell_type": "markdown",
   "metadata": {},
   "source": [
    "## Część 4. - Sequential Hybrid Aggregation"
   ]
  },
  {
   "cell_type": "code",
   "execution_count": 21,
   "metadata": {
    "ExecuteTime": {
     "start_time": "2023-11-21T20:25:11.803578Z",
     "end_time": "2023-11-21T20:25:11.826865Z"
    }
   },
   "outputs": [],
   "source": [
    "# algorytm balansujacy pomiedzy wyborem elementow o najwyzszej sredniej ocen\n",
    "#   i o najwyzszej minimalnej ocenie\n",
    "#   wyliczajacy w kazdej iteracji parametr alfa - jak na wykladzie\n",
    "class SequentialHybridAggregationRecommender(Recommender):\n",
    "    def __init__(self):\n",
    "        self.name = 'sequential_hybrid_aggregation'\n",
    "\n",
    "    def recommend(self, movies, ratings, group, size):\n",
    "        # Calculate average score and least score for each movie in the group\n",
    "        avg_score = ratings.loc[group].mean(axis=0)\n",
    "        least_score = ratings.loc[group].min()\n",
    "        alpha = 1\n",
    "\n",
    "        # Create a dictionary to store scores for each movie\n",
    "        score = {movie: 0 for movie in ratings.columns}\n",
    "\n",
    "        recommendation = []\n",
    "\n",
    "        # Iterate through the specified number of recommendations\n",
    "        for _ in range(size):\n",
    "            # Calculate the score for each movie using the weighted average\n",
    "            score.update(\n",
    "                {movie: (1 - alpha) * avg_score.loc[movie] + alpha * least_score.loc[movie] for movie in movies})\n",
    "\n",
    "            # Set the score to -1 for movies already recommended\n",
    "            score.update({movie: -1 for movie in recommendation})\n",
    "\n",
    "            # Find the movie with the maximum score\n",
    "            max_score_movie = max(score.items(), key=lambda k: k[1])[0]\n",
    "            recommendation.append(max_score_movie)\n",
    "\n",
    "            # Update alpha using the group disagreement function\n",
    "            alpha = group_disagreement(recommendation, group, movies, ratings)\n",
    "\n",
    "        return recommendation"
   ]
  },
  {
   "cell_type": "code",
   "execution_count": 22,
   "outputs": [
    {
     "data": {
      "text/plain": "[2891, 4410, 6090, 6305, 45668]"
     },
     "execution_count": 22,
     "metadata": {},
     "output_type": "execute_result"
    }
   ],
   "source": [
    "SequentialHybridAggregationRecommender().recommend(movies, ratings, groups[7], 5)"
   ],
   "metadata": {
    "collapsed": false,
    "ExecuteTime": {
     "start_time": "2023-11-21T20:25:11.812796Z",
     "end_time": "2023-11-21T20:25:12.475291Z"
    }
   }
  },
  {
   "cell_type": "markdown",
   "metadata": {},
   "source": [
    "## Część 5. - porównanie algorytmów"
   ]
  },
  {
   "cell_type": "code",
   "execution_count": 23,
   "outputs": [],
   "source": [
    "def calculate_statistics(data, length):\n",
    "    avg = np.sum(data) / length\n",
    "    std = np.sqrt(np.sum(pow(data - avg, 2))) / length\n",
    "\n",
    "    return avg, std"
   ],
   "metadata": {
    "collapsed": false,
    "ExecuteTime": {
     "start_time": "2023-11-21T20:25:12.479870Z",
     "end_time": "2023-11-21T20:25:12.481137Z"
    }
   }
  },
  {
   "cell_type": "code",
   "execution_count": 24,
   "metadata": {
    "scrolled": true,
    "ExecuteTime": {
     "start_time": "2023-11-21T20:25:12.485956Z",
     "end_time": "2023-11-21T20:29:57.177950Z"
    }
   },
   "outputs": [
    {
     "name": "stdout",
     "output_type": "stream",
     "text": [
      "Recommender: random\n",
      "satisfaction: 0.6026339285714285 +/- 0.04349198230837043\n",
      "disagreement: 0.2677232142857143 +/- 0.030604685154857147\n",
      "\n",
      "Recommender: average\n",
      "satisfaction: 0.9681785714285713 +/- 0.00943772384516262\n",
      "disagreement: 0.07696428571428572 +/- 0.023879463868413317\n",
      "\n",
      "Recommender: average_without_misery\n",
      "satisfaction: 0.9681785714285713 +/- 0.00943772384516262\n",
      "disagreement: 0.07696428571428572 +/- 0.023879463868413317\n",
      "\n",
      "Recommender: fairness\n",
      "satisfaction: 0.696125 +/- 0.03690211462039312\n",
      "disagreement: 0.16165178571428573 +/- 0.015588853278550627\n",
      "\n",
      "Recommender: borda\n",
      "satisfaction: 0.9498839285714287 +/- 0.014715358065445105\n",
      "disagreement: 0.09040178571428571 +/- 0.030013246271767578\n",
      "\n"
     ]
    },
    {
     "name": "stderr",
     "output_type": "stream",
     "text": [
      "/tmp/ipykernel_10397/805748974.py:29: FutureWarning: Setting an item of incompatible dtype is deprecated and will raise in a future error of pandas. Value '0.5' has dtype incompatible with int64, please explicitly cast to a compatible dtype first.\n",
      "  user_satisfaction.loc[user, movie] = user_points[user]\n",
      "/tmp/ipykernel_10397/805748974.py:29: FutureWarning: Setting an item of incompatible dtype is deprecated and will raise in a future error of pandas. Value '0.5' has dtype incompatible with int64, please explicitly cast to a compatible dtype first.\n",
      "  user_satisfaction.loc[user, movie] = user_points[user]\n",
      "/tmp/ipykernel_10397/805748974.py:29: FutureWarning: Setting an item of incompatible dtype is deprecated and will raise in a future error of pandas. Value '0.5' has dtype incompatible with int64, please explicitly cast to a compatible dtype first.\n",
      "  user_satisfaction.loc[user, movie] = user_points[user]\n",
      "/tmp/ipykernel_10397/805748974.py:29: FutureWarning: Setting an item of incompatible dtype is deprecated and will raise in a future error of pandas. Value '0.5' has dtype incompatible with int64, please explicitly cast to a compatible dtype first.\n",
      "  user_satisfaction.loc[user, movie] = user_points[user]\n",
      "/tmp/ipykernel_10397/805748974.py:29: FutureWarning: Setting an item of incompatible dtype is deprecated and will raise in a future error of pandas. Value '0.5' has dtype incompatible with int64, please explicitly cast to a compatible dtype first.\n",
      "  user_satisfaction.loc[user, movie] = user_points[user]\n",
      "/tmp/ipykernel_10397/805748974.py:29: FutureWarning: Setting an item of incompatible dtype is deprecated and will raise in a future error of pandas. Value '0.5' has dtype incompatible with int64, please explicitly cast to a compatible dtype first.\n",
      "  user_satisfaction.loc[user, movie] = user_points[user]\n",
      "/tmp/ipykernel_10397/805748974.py:29: FutureWarning: Setting an item of incompatible dtype is deprecated and will raise in a future error of pandas. Value '0.5' has dtype incompatible with int64, please explicitly cast to a compatible dtype first.\n",
      "  user_satisfaction.loc[user, movie] = user_points[user]\n",
      "/tmp/ipykernel_10397/805748974.py:29: FutureWarning: Setting an item of incompatible dtype is deprecated and will raise in a future error of pandas. Value '0.5' has dtype incompatible with int64, please explicitly cast to a compatible dtype first.\n",
      "  user_satisfaction.loc[user, movie] = user_points[user]\n"
     ]
    },
    {
     "name": "stdout",
     "output_type": "stream",
     "text": [
      "Recommender: PAV\n",
      "satisfaction: 0.7998214285714286 +/- 0.010965703433237394\n",
      "disagreement: 0.19651785714285713 +/- 0.016652892772468283\n",
      "\n",
      "Recommender: sequential_hybrid_aggregation\n",
      "satisfaction: 0.9670714285714286 +/- 0.009925688494600094\n",
      "disagreement: 0.07410714285714287 +/- 0.023576501077581986\n",
      "\n"
     ]
    }
   ],
   "source": [
    "recommenders = [\n",
    "    RandomRecommender(),\n",
    "    AverageRecommender(),\n",
    "    AverageWithoutMiseryRecommender(5),\n",
    "    FairnessRecommender(),\n",
    "    VotingRecommender(),\n",
    "    ProportionalApprovalVotingRecommender(5),\n",
    "    SequentialHybridAggregationRecommender()\n",
    "]\n",
    "\n",
    "recommendation_size = 10\n",
    "\n",
    "# dla kazdego algorytmu:\n",
    "#  - wygenerujmy jedna rekomendacje dla kazdej grupy\n",
    "#  - obliczmy wartosci obu funkcji celu dla kazdej rekomendacji\n",
    "#  - obliczmy srednia i odchylenie standardowe dla obu funkcji celu\n",
    "#  - wypiszmy wyniki na konsole\n",
    "\n",
    "for recommender in recommenders:\n",
    "    satisfaction = np.zeros(len(groups))\n",
    "    disagreement = np.zeros(len(groups))\n",
    "\n",
    "    for i, group in enumerate(groups):\n",
    "        recommendation = recommender.recommend(movies, ratings, group, recommendation_size)\n",
    "        satisfaction[i] = overall_group_satisfaction(recommendation, group, movies, ratings)\n",
    "        disagreement[i] = group_disagreement(recommendation, group, movies, ratings)\n",
    "\n",
    "    avg_satisfaction, std_satisfaction = calculate_statistics(satisfaction, len(groups))\n",
    "    avg_disagreement, std_disagreement = calculate_statistics(disagreement, len(groups))\n",
    "\n",
    "    print(f'Recommender: {recommender.name}')\n",
    "    print(f'satisfaction: {avg_satisfaction} +/- {std_satisfaction}')\n",
    "    print(f'disagreement: {avg_disagreement} +/- {std_disagreement}\\n')"
   ]
  }
 ],
 "metadata": {
  "kernelspec": {
   "display_name": "Python 3 (ipykernel)",
   "language": "python",
   "name": "python3"
  },
  "language_info": {
   "codemirror_mode": {
    "name": "ipython",
    "version": 3
   },
   "file_extension": ".py",
   "mimetype": "text/x-python",
   "name": "python",
   "nbconvert_exporter": "python",
   "pygments_lexer": "ipython3",
   "version": "3.9.6"
  }
 },
 "nbformat": 4,
 "nbformat_minor": 4
}
