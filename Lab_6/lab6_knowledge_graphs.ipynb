{
 "cells": [
  {
   "cell_type": "markdown",
   "id": "4d18a343-c53e-4e64-8316-f5c1167437c4",
   "metadata": {},
   "source": [
    "# Laboratorium 6 - rekomendacje oparte na grafach wiedzy\n",
    "\n",
    "## Przygotowanie\n",
    "\n",
    " * pobierz i wypakuj dataset: https://www.aicrowd.com/challenges/spotify-million-playlist-dataset-challenge\n",
    "   * na potrzeby drugiej części laboratorium (czyli testowego treningu), na Teamsach macie dostępny podzbiór danych, `a_few_playlists_dataset` - nie wystarczy on jednak do wykonania trzeciej części (i tym samym do oddania laboratorium)\n",
    " * [opcjonalnie] Utwórz wirtualne środowisko\n",
    " `python3 -m venv ./recsyslab6`\n",
    " * zainstaluj potrzebne biblioteki:\n",
    " `pip install numpy pandas pykeen tqdm seaborn`"
   ]
  },
  {
   "cell_type": "markdown",
   "id": "d19a763f-eb56-4085-ac43-6d7a1a0cb520",
   "metadata": {},
   "source": [
    "## Część 1. - przygotowanie danych"
   ]
  },
  {
   "cell_type": "code",
   "execution_count": 1,
   "id": "1e62e94d-9961-4d5e-a264-745b5177ed5e",
   "metadata": {
    "ExecuteTime": {
     "end_time": "2023-12-03T22:52:19.461887Z",
     "start_time": "2023-12-03T22:52:16.820354Z"
    }
   },
   "outputs": [
    {
     "name": "stderr",
     "output_type": "stream",
     "text": [
      "/home/szymonbudziak/Studia_AGH/Semestr_7/Rekomendacyjne/Recommendation_systems_course_AGH/venv/lib/python3.11/site-packages/tqdm/auto.py:21: TqdmWarning: IProgress not found. Please update jupyter and ipywidgets. See https://ipywidgets.readthedocs.io/en/stable/user_install.html\n",
      "  from .autonotebook import tqdm as notebook_tqdm\n"
     ]
    }
   ],
   "source": [
    "import json\n",
    "import matplotlib.pyplot as plt\n",
    "import numpy as np\n",
    "from tqdm import tqdm\n",
    "import random\n",
    "\n",
    "from pykeen.models import TransE, TransH, TransR, RESCAL\n",
    "from pykeen.pipeline import pipeline\n",
    "from pykeen.predict import predict_target\n",
    "from pykeen.triples import TriplesFactory\n",
    "from pykeen.utils import resolve_device"
   ]
  },
  {
   "cell_type": "code",
   "execution_count": 2,
   "id": "ff156f86",
   "metadata": {
    "ExecuteTime": {
     "end_time": "2023-12-03T22:52:19.779027Z",
     "start_time": "2023-12-03T22:52:19.734583Z"
    },
    "collapsed": false,
    "jupyter": {
     "outputs_hidden": false
    }
   },
   "outputs": [
    {
     "data": {
      "text/plain": [
       "device(type='cuda')"
      ]
     },
     "execution_count": 2,
     "metadata": {},
     "output_type": "execute_result"
    }
   ],
   "source": [
    "# Check whether GPU is being used\n",
    "resolve_device()"
   ]
  },
  {
   "cell_type": "code",
   "execution_count": 3,
   "id": "67368f56-c5ee-45cb-90f7-235d610c40dd",
   "metadata": {
    "ExecuteTime": {
     "end_time": "2023-12-03T22:52:20.611765Z",
     "start_time": "2023-12-03T22:52:20.599608Z"
    }
   },
   "outputs": [
    {
     "data": {
      "text/plain": [
       "50"
      ]
     },
     "execution_count": 3,
     "metadata": {},
     "output_type": "execute_result"
    }
   ],
   "source": [
    "# # konfiguracja datasetu Spotify\n",
    "PATH = 'spotify_million_playlist_dataset/data'\n",
    "SAMPLING_RATIO = 0.05\n",
    "FILENAMES = random.sample([f'mpd.slice.{1000*i}-{1000*i+999}.json' for i in range(1000)], int(SAMPLING_RATIO*1000))\n",
    "len(FILENAMES)"
   ]
  },
  {
   "cell_type": "code",
   "execution_count": 4,
   "id": "ce4d3db7-5e55-4a11-a45e-79356fd75e8f",
   "metadata": {
    "ExecuteTime": {
     "end_time": "2023-12-03T22:52:24.686578Z",
     "start_time": "2023-12-03T22:52:24.683321Z"
    }
   },
   "outputs": [],
   "source": [
    "# jesli uzywasz datasetu pobranego z Teamsow, uzyj tej komorki zamiast powyzszej\n",
    "# UWAGA - do oddania laboratorium konieczne jest uzycie oficjalnego datasetu Spotify\n",
    "# PATH = 'a_few_playlists_dataset'\n",
    "# SAMPLING_RATIO = 0.01\n",
    "# with open(f'{PATH}/filenames.txt') as fn:\n",
    "#     FILENAMES = fn.read().split('\\n')"
   ]
  },
  {
   "cell_type": "code",
   "execution_count": 5,
   "id": "7743626d-5017-4443-809c-f3146bf82298",
   "metadata": {
    "ExecuteTime": {
     "end_time": "2023-12-03T22:52:25.262317Z",
     "start_time": "2023-12-03T22:52:25.249561Z"
    }
   },
   "outputs": [],
   "source": [
    "# funkcje do parsowania playlist\n",
    "def get_id(uri):\n",
    "    return uri.split(':')[-1]\n",
    "\n",
    "\n",
    "def parse_playlist(playlist):\n",
    "    name = playlist['name']\n",
    "    tracks = [get_id(t['track_uri']) for t in playlist['tracks']]\n",
    "    tracks_to_artists = {(get_id(t['track_uri']), get_id(t['artist_uri'])) for t in playlist['tracks']}\n",
    "    tracks_to_albums = {(get_id(t['track_uri']), get_id(t['album_uri'])) for t in playlist['tracks']}\n",
    "    albums_to_artists = {(get_id(t['album_uri']), get_id(t['artist_uri'])) for t in playlist['tracks']}\n",
    "    return name, tracks, tracks_to_artists, tracks_to_albums, albums_to_artists"
   ]
  },
  {
   "cell_type": "code",
   "execution_count": 6,
   "id": "475e2848-3c30-4173-98dc-272fb86e4690",
   "metadata": {
    "ExecuteTime": {
     "end_time": "2023-12-03T22:53:13.131698Z",
     "start_time": "2023-12-03T22:52:26.385629Z"
    }
   },
   "outputs": [
    {
     "name": "stderr",
     "output_type": "stream",
     "text": [
      "100%|██████████████████████████████████████████████████████████████████████████████████████████████████████████████████████████████████████████| 50/50 [00:23<00:00,  2.09it/s]\n"
     ]
    },
    {
     "name": "stdout",
     "output_type": "stream",
     "text": [
      "Got: 50,000 playlists; 462,545 tracks; 196,124albums; 80,353 artists\n"
     ]
    }
   ],
   "source": [
    "# parsing\n",
    "playlists = []\n",
    "tracks = set()\n",
    "tracks_to_artists = set()\n",
    "tracks_to_albums = set()\n",
    "albums_to_artists = set()\n",
    "\n",
    "for filename in tqdm(FILENAMES):\n",
    "    with open(f'{PATH}/{filename}') as mpd_chunk:\n",
    "        for playlist in json.loads(mpd_chunk.read())['playlists']:\n",
    "            a, b, c, d, e = parse_playlist(playlist)\n",
    "            playlists.append(b)\n",
    "            tracks.update(set(b))\n",
    "            tracks_to_artists.update(c)\n",
    "            tracks_to_albums.update(d)\n",
    "            albums_to_artists.update(e)\n",
    "\n",
    "print(\n",
    "    f'Got: {len(playlists):,} playlists; {len(tracks):,} tracks; {len({x[1] for x in tracks_to_albums}):,}albums; {len({x[1] for x in tracks_to_artists}):,} artists')"
   ]
  },
  {
   "cell_type": "code",
   "execution_count": 7,
   "id": "33a6478c-9602-4e40-ae2f-8eeea8a665ed",
   "metadata": {
    "ExecuteTime": {
     "end_time": "2023-12-03T22:53:26.419915Z",
     "start_time": "2023-12-03T22:53:21.925580Z"
    }
   },
   "outputs": [
    {
     "name": "stderr",
     "output_type": "stream",
     "text": [
      "100%|█████████████████████████████████████████████████████████████████████████████████████████████████████████████████████████████████| 50000/50000 [00:01<00:00, 34578.07it/s]\n",
      "100%|█████████████████████████████████████████████████████████████████████████████████████████████████████████████████████████████████| 50000/50000 [00:00<00:00, 53688.29it/s]"
     ]
    },
    {
     "name": "stdout",
     "output_type": "stream",
     "text": [
      "train dataset: 45,000; test dataset: 5,000\n"
     ]
    },
    {
     "name": "stderr",
     "output_type": "stream",
     "text": [
      "\n"
     ]
    }
   ],
   "source": [
    "# w zbiorze testowym chcemy tylko te playlisty, ktorych wszystkie piosenki wystapia takze choc raz w zbiorze treningowym\n",
    "tracks_counter = {}\n",
    "for p in tqdm(playlists):\n",
    "    for t in p:\n",
    "        if t in tracks_counter:\n",
    "            tracks_counter[t] += 1\n",
    "        else:\n",
    "            tracks_counter[t] = 1\n",
    "\n",
    "playlists_with_only_non_unique_tracks = []\n",
    "for i in tqdm(range(len((playlists)))):\n",
    "    p = playlists[i]\n",
    "    if all([tracks_counter[t] > 1 for t in p]):\n",
    "        playlists_with_only_non_unique_tracks.append(i)\n",
    "\n",
    "# zbior testowy to 1/10 wszystkich playlist - czyli 100k, jesli nie używamy samplingu\n",
    "test_playlist_ids = random.sample(playlists_with_only_non_unique_tracks, int(SAMPLING_RATIO * 100_000))\n",
    "# zbior treningowy to cala reszta playlist - jest ich duzo, wiec sprobujmy to zrobic wydajnie\n",
    "test_ids_sorted = sorted(test_playlist_ids)\n",
    "test_i = 0\n",
    "train_playlist_ids = []\n",
    "i = 0\n",
    "while i < len(playlists):\n",
    "    if test_i < len(test_ids_sorted) and test_ids_sorted[test_i] == i:\n",
    "        test_i += 1\n",
    "    else:\n",
    "        train_playlist_ids.append(i)\n",
    "    i += 1\n",
    "\n",
    "train_playlists = [playlists[i] for i in train_playlist_ids]\n",
    "test_playlists = [playlists[i] for i in test_playlist_ids]\n",
    "\n",
    "print(f'train dataset: {len(train_playlists):,}; test dataset: {len(test_playlists):,}')"
   ]
  },
  {
   "cell_type": "markdown",
   "id": "c480cce3-90df-4f6e-b781-0c30f6c18c31",
   "metadata": {},
   "source": [
    "## Część 2. - budowa i ewaluacja modelu"
   ]
  },
  {
   "cell_type": "markdown",
   "id": "af5bb789-088e-4d5b-82ac-15116fb31216",
   "metadata": {},
   "source": [
    "### Relacje istniejące w naszym datasecie:\n",
    "![poglądowy obrazek relacji w datasecie](relations.svg)"
   ]
  },
  {
   "cell_type": "code",
   "execution_count": 8,
   "id": "83962cc3-54fd-438d-a7c7-b8a2f3c1b4c5",
   "metadata": {
    "ExecuteTime": {
     "end_time": "2023-12-03T22:53:51.920633Z",
     "start_time": "2023-12-03T22:53:50.430303Z"
    }
   },
   "outputs": [
    {
     "name": "stderr",
     "output_type": "stream",
     "text": [
      "100%|█████████████████████████████████████████████████████████████████████████████████████████████████████████████████████████████████| 45000/45000 [00:00<00:00, 59102.51it/s]"
     ]
    },
    {
     "name": "stdout",
     "output_type": "stream",
     "text": [
      "Got 1 relations with total of 3,031,724 entries\n"
     ]
    },
    {
     "name": "stderr",
     "output_type": "stream",
     "text": [
      "\n"
     ]
    }
   ],
   "source": [
    "# budowanie zbioru relacji\n",
    "# mozesz usunac czesc wpisow z listy `relations`\n",
    "# relations = ['follows', 'authored_by', 'in_album', 'authored']\n",
    "relations = ['follows']\n",
    "triples = []\n",
    "\n",
    "# relacje piosenka -> autor\n",
    "if 'authored_by' in relations:\n",
    "    for track, artist in tqdm(tracks_to_artists):\n",
    "        triples.append((track, 'authored_by', artist))\n",
    "\n",
    "# relacje piosenka -> artysta\n",
    "if 'in_album' in relations:\n",
    "    for track, album in tqdm(tracks_to_albums):\n",
    "        triples.append((track, 'in_album', album))\n",
    "\n",
    "# relacje artysta -> album\n",
    "if 'authored' in relations:\n",
    "    for album, artist in tqdm(albums_to_artists):\n",
    "        triples.append((artist, 'authored', album))\n",
    "\n",
    "# relacje piosenka -> piosenka\n",
    "if 'follows' in relations:\n",
    "    for playlist in tqdm(train_playlists):\n",
    "        for i in range(len(playlist) - 1):\n",
    "            triples.append((playlist[i], 'follows', playlist[i + 1]))\n",
    "\n",
    "num_entities = len(triples)\n",
    "num_relations = len(relations)\n",
    "\n",
    "print(f'Got {num_relations} relations with total of {num_entities:,} entries')"
   ]
  },
  {
   "cell_type": "code",
   "execution_count": 16,
   "id": "64a2042a-3165-4177-af82-2cb1586c8eb1",
   "metadata": {
    "ExecuteTime": {
     "end_time": "2023-12-03T20:53:18.884812Z",
     "start_time": "2023-12-03T20:46:01.011410Z"
    }
   },
   "outputs": [
    {
     "name": "stderr",
     "output_type": "stream",
     "text": [
      "WARNING:pykeen.utils:using automatically assigned random_state=1378496450\n",
      "INFO:pykeen.triples.splitting:done splitting triples to groups of sizes [1541809, 250245, 250245]\n",
      "WARNING:pykeen.pipeline.api:No random seed is specified. Setting to 3107677255.\n",
      "INFO:pykeen.pipeline.api:Using device: None\n",
      "Training epochs on cuda:0: 100%|██████████████████████████████████████████████████████████████████████████████████| 5/5 [25:22<00:00, 304.51s/epoch, loss=0.165, prev_loss=0.2]\n",
      "INFO:pykeen.evaluation.evaluator:Starting batch_size search for evaluation now...\n",
      "INFO:pykeen.evaluation.evaluator:Concluded batch_size search with batch_size=16.\n",
      "Evaluating on cuda:0: 100%|███████████████████████████████████████████████████████████████████████████████████████████████████████████| 250k/250k [1:06:54<00:00, 62.3triple/s]\n",
      "INFO:pykeen.evaluation.evaluator:Evaluation took 4023.02s seconds\n"
     ]
    }
   ],
   "source": [
    "# trening\n",
    "tf = TriplesFactory.from_labeled_triples(np.array(triples))\n",
    "# ta dysproporcja jest po to, by szybko uzyskac jakikolwiek wynik\n",
    "#   - dla uzyskania sensownych wynikow warto zmienic split na np. standardowe 80-10-10\n",
    "training, testing, validation = tf.split([.8, .1, .1])\n",
    "\n",
    "pipeline_result = pipeline(\n",
    "    training=training,\n",
    "    testing=testing,\n",
    "    validation=validation,\n",
    "    model=TransE,\n",
    "    # to najszybszy i najprostszy, ale i najgorszy model; pomysl o uzyciu TransH, TransR, RESCAL albo dowolnego innego\n",
    "    epochs=5\n",
    "    # to zdecydowanie za malo - 1 wystarczy do jakichkolwiek wynikow, 5 do dosc slabych, blizej 20 do sensownych\n",
    ")"
   ]
  },
  {
   "cell_type": "code",
   "execution_count": 17,
   "id": "d50bf67a-f449-4296-91e5-cadad5d4990c",
   "metadata": {
    "ExecuteTime": {
     "end_time": "2023-12-03T20:53:19.279334Z",
     "start_time": "2023-12-03T20:53:18.889097Z"
    }
   },
   "outputs": [
    {
     "data": {
      "text/plain": [
       "<Axes: title={'center': 'Losses Plot'}, xlabel='Epoch', ylabel='marginranking Loss'>"
      ]
     },
     "execution_count": 17,
     "metadata": {},
     "output_type": "execute_result"
    },
    {
     "data": {
      "image/png": "[encoded data removed]",
      "text/plain": [
       "<Figure size 640x480 with 1 Axes>"
      ]
     },
     "metadata": {},
     "output_type": "display_data"
    }
   ],
   "source": [
    "# zgrubne oszacowanie jakosci wytrenowanego modelu\n",
    "pipeline_result.plot_losses()"
   ]
  },
  {
   "cell_type": "code",
   "execution_count": 11,
   "id": "90d47109",
   "metadata": {
    "ExecuteTime": {
     "end_time": "2023-12-03T21:06:47.724508Z",
     "start_time": "2023-12-03T21:06:47.724394Z"
    },
    "collapsed": false,
    "jupyter": {
     "outputs_hidden": false
    }
   },
   "outputs": [],
   "source": [
    "# funkcja zwracajaca predykcje z modelu\n",
    "def predict_next_tracks(model, track_id: str, k: int) -> list[str]:\n",
    "    # Check if the track_id is in the entity-to-id mapping of the triples factory\n",
    "    if track_id not in tf.entity_to_id:\n",
    "        return []\n",
    "\n",
    "    # Use the predict_target function from PyKEEN to get predictions\n",
    "    # The function takes the model, head entity (track_id), and relation ('follows') as arguments\n",
    "    predictions = predict_target(model=model, head=track_id, relation='follows', triples_factory=tf)\n",
    "\n",
    "    # Get the dataframe with the predictions\n",
    "    df = predictions.df\n",
    "\n",
    "    # Sort the DataFrame by the 'score' column in descending order, take the top 'k' rows,\n",
    "    # select the 'tail_label' column, and convert it to a list\n",
    "    return df.sort_values(by='score', ascending=False).head(k).loc[:, 'tail_label'].tolist()"
   ]
  },
  {
   "cell_type": "code",
   "execution_count": 12,
   "id": "0a83eba4-2e1e-4bec-be87-8063ed71ed58",
   "metadata": {
    "ExecuteTime": {
     "end_time": "2023-12-03T21:06:49.042705Z",
     "start_time": "2023-12-03T21:06:49.042579Z"
    }
   },
   "outputs": [],
   "source": [
    "# metryki do porownania rekomenderow - precision@k i recall@k\n",
    "def precision(prediction: list[str], actual_tracks: list[str]) -> float:\n",
    "    # Calculate precision\n",
    "    if len(prediction) == 0:\n",
    "        return 0.0\n",
    "    else:\n",
    "        # Calculate the intersection between the predicted and actual tracks\n",
    "        intersection = set(prediction) & set(actual_tracks)\n",
    "        return len(intersection) / len(prediction)\n",
    "\n",
    "\n",
    "def recall(prediction: list[str], actual_tracks: list[str]) -> float:\n",
    "    # Calculate recall\n",
    "    if len(actual_tracks) == 0:\n",
    "        return 0.0\n",
    "    else:\n",
    "        # Calculate the intersection between the predicted and actual tracks\n",
    "        intersection = set(prediction) & set(actual_tracks)\n",
    "        return len(intersection) / len(actual_tracks)"
   ]
  },
  {
   "cell_type": "code",
   "execution_count": 13,
   "id": "d39cbf2e-e686-45d0-a8cd-5343132b2ba0",
   "metadata": {
    "ExecuteTime": {
     "end_time": "2023-12-01T22:46:45.075520Z",
     "start_time": "2023-12-01T22:46:45.075350Z"
    }
   },
   "outputs": [
    {
     "name": "stderr",
     "output_type": "stream",
     "text": [
      "Evaluating playlists: 100%|████████████████████████████████████████████████████████████████████████████████████████████████████████████████| 4701/4701 [26:06<00:00,  3.00it/s]\n"
     ]
    },
    {
     "data": {
      "image/png": "[encoded data removed]",
      "text/plain": [
       "<Figure size 640x480 with 2 Axes>"
      ]
     },
     "metadata": {},
     "output_type": "display_data"
    }
   ],
   "source": [
    "# ocena wynikow\n",
    "\n",
    "# odsiewamy playlisty zbyt krotkie, by dac sensowne wyniki\n",
    "long_enough_test_playlists = [p for p in test_playlists if len(p) >= 10]\n",
    "# z kazdej playlisty, elementy od 0 do `cutoff_idx` wlacznie sa dane, na ich podstawie robimy predykcje\n",
    "# elementy od cutoff_idx+1 do konca powinnismy umiec przewidziec\n",
    "cutoff_idx = 4\n",
    "# ile elementow ma przewidziec nasz model\n",
    "k = 20\n",
    "precisions: list[float] = []\n",
    "recalls: list[float] = []\n",
    "\n",
    "model = pipeline_result.model\n",
    "\n",
    "for playlist in tqdm(long_enough_test_playlists, desc='Evaluating playlists'):\n",
    "    # Use your predict_next_tracks function to get predictions for the playlist\n",
    "    predicted_tracks = predict_next_tracks(model, playlist[cutoff_idx], k)\n",
    "\n",
    "    # Ground truth tracks from cutoff_idx+1 to the end\n",
    "    actual_tracks = playlist[cutoff_idx + 1:]\n",
    "\n",
    "    # Calculate precision and recall for the playlist\n",
    "    playlist_precision = precision(predicted_tracks, actual_tracks)\n",
    "    playlist_recall = recall(predicted_tracks, actual_tracks)\n",
    "\n",
    "    precisions.append(playlist_precision)\n",
    "    recalls.append(playlist_recall)\n",
    "\n",
    "# histogram z wynikami\n",
    "fig, (ax1, ax2) = plt.subplots(1, 2)\n",
    "ax1.hist(precisions, bins=20)\n",
    "ax1.set_title('Precision')\n",
    "ax2.hist(recalls, bins=20)\n",
    "ax2.set_title('Recall')\n",
    "plt.show()"
   ]
  },
  {
   "cell_type": "markdown",
   "id": "ca5d83b9-de72-4fc0-8bfe-7acb6c66f62f",
   "metadata": {},
   "source": [
    "## Część 3. - porównanie różnych metod rekomendacji"
   ]
  },
  {
   "cell_type": "markdown",
   "id": "a3e87e7c-b9fb-430d-86cb-14433ddd4287",
   "metadata": {},
   "source": [
    "W części 2. zbudowaliśmy zbiór trójek relacji, wytrenowaliśmy jeden model, zaimplementowaliśmy (prostą) metodę generującą rekomendacje na podstawie predykcji modelu i w końcu zaimplementowaliśmy dwie metryki do porównania jakości tych rekomendacji.\n",
    "\n",
    "W części 3. Twoim zadaniem jest przetestować trzy różne podejścia do jednego z kroków:\n",
    "1. Porównaj trzy różne modele spośród dostępnych w bibliotece PyKeen: https://pykeen.readthedocs.io/en/stable/reference/models.html#classes\n",
    "   * jeden model translacyjny (np. TransE, TransH, TransR)\n",
    "   * jeden model faktoryzacyjny (np. RESCAL)\n",
    "   * jeden dowolny model niewybrany w poprzednich punktach\n",
    "2. Porównaj trzy metody budowania grafu wiedzy:\n",
    "   * graf zawierający relacje wszystkich czterech typów\n",
    "   * graf zawierający tylko relacje typu `follows` (czyli między kolejnymi utworami w playliście)\n",
    "   * graf zawierający relacje wybranych przez Ciebie dwóch lub trzech typów (czyli krok pośredni między powyższymi punktami)\n",
    "3. Porównaj trzy metody generowania rekomendacji na podstawie elementów zwróconych przez `predict_target()` (ta metoda zwraca m. in. score'y każdego z proponowanych elementów, co może okazać się pomocne):\n",
    "   * metoda opierająca się tylko na predykcji dla ostatniego znanego elementu w playliście\n",
    "   * dwie wymyślone przez Ciebie, bardziej zaawansowane metody\n",
    "  \n",
    "Niezależnie od tego, który z trzech powyższych scenariuszy wybierzesz - porównaj trzy wybrane przez Ciebie metody na podstawie histogramów metryk `precision@k` i `recall@k`."
   ]
  },
  {
   "cell_type": "markdown",
   "id": "f7b91c0d",
   "metadata": {
    "collapsed": false,
    "jupyter": {
     "outputs_hidden": false
    }
   },
   "source": [
    "### 1) Compare different models from PyKeen library"
   ]
  },
  {
   "cell_type": "code",
   "execution_count": 14,
   "id": "ac29f650",
   "metadata": {
    "collapsed": false,
    "jupyter": {
     "outputs_hidden": false
    }
   },
   "outputs": [
    {
     "name": "stderr",
     "output_type": "stream",
     "text": [
      "WARNING:pykeen.pipeline.api:No random seed is specified. Setting to 2998508133.\n",
      "INFO:pykeen.pipeline.api:Using device: None\n",
      "Training epochs on cuda:0: 100%|████████████████████████████████████████████████████████████████████████████████| 3/3 [19:34<00:00, 391.51s/epoch, loss=0.343, prev_loss=0.419]\n",
      "INFO:pykeen.evaluation.evaluator:Starting batch_size search for evaluation now...\n",
      "INFO:pykeen.evaluation.evaluator:Concluded batch_size search with batch_size=8.\n",
      "Evaluating on cuda:0: 100%|███████████████████████████████████████████████████████████████████████████████████████████████████████████| 250k/250k [2:44:08<00:00, 25.4triple/s]\n",
      "INFO:pykeen.evaluation.evaluator:Evaluation took 9856.84s seconds\n",
      "Evaluating playlists for model: TransR: 100%|██████████████████████████████████████████████████████████████████████████████████████████████| 4701/4701 [26:47<00:00,  2.92it/s]\n"
     ]
    },
    {
     "data": {
      "image/png": "[encoded data removed]",
      "text/plain": [
       "<Figure size 640x480 with 2 Axes>"
      ]
     },
     "metadata": {},
     "output_type": "display_data"
    },
    {
     "name": "stderr",
     "output_type": "stream",
     "text": [
      "WARNING:pykeen.pipeline.api:No random seed is specified. Setting to 3725645185.\n",
      "INFO:pykeen.pipeline.api:Using device: None\n"
     ]
    },
    {
     "name": "stdout",
     "output_type": "stream",
     "text": [
      "Model: TransR\n",
      "Average precision: 0.007551584769198043\n",
      "Average recalls: 0.00343517433865349\n",
      "\n",
      "\n"
     ]
    },
    {
     "name": "stderr",
     "output_type": "stream",
     "text": [
      "Training epochs on cuda:0: 100%|██████████████████████████████████████████████████████████████████████████████████| 3/3 [13:04<00:00, 261.42s/epoch, loss=6.26, prev_loss=9.94]\n",
      "INFO:pykeen.evaluation.evaluator:Starting batch_size search for evaluation now...\n",
      "INFO:pykeen.evaluation.evaluator:Concluded batch_size search with batch_size=32.\n",
      "Evaluating on cuda:0: 100%|██████████████████████████████████████████████████████████████████████████████████████████████████████████████| 250k/250k [37:35<00:00, 111triple/s]\n",
      "INFO:pykeen.evaluation.evaluator:Evaluation took 2264.01s seconds\n",
      "Evaluating playlists for model: RESCAL: 100%|██████████████████████████████████████████████████████████████████████████████████████████████| 4701/4701 [25:45<00:00,  3.04it/s]\n"
     ]
    },
    {
     "data": {
      "image/png": "[encoded data removed]",
      "text/plain": [
       "<Figure size 640x480 with 2 Axes>"
      ]
     },
     "metadata": {},
     "output_type": "display_data"
    },
    {
     "name": "stderr",
     "output_type": "stream",
     "text": [
      "WARNING:pykeen.pipeline.api:No random seed is specified. Setting to 4280309303.\n",
      "INFO:pykeen.pipeline.api:Using device: None\n"
     ]
    },
    {
     "name": "stdout",
     "output_type": "stream",
     "text": [
      "Model: RESCAL\n",
      "Average precision: 2.1272069772388854e-05\n",
      "Average recalls: 2.0437870957785366e-05\n",
      "\n",
      "\n"
     ]
    },
    {
     "name": "stderr",
     "output_type": "stream",
     "text": [
      "Training epochs on cuda:0: 100%|████████████████████████████████████████████████████████████████████████████████| 3/3 [21:05<00:00, 421.89s/epoch, loss=0.448, prev_loss=0.572]\n",
      "INFO:pykeen.evaluation.evaluator:Starting batch_size search for evaluation now...\n",
      "INFO:pykeen.evaluation.evaluator:Concluded batch_size search with batch_size=8.\n",
      "Evaluating on cuda:0: 100%|███████████████████████████████████████████████████████████████████████████████████████████████████████████| 250k/250k [2:01:20<00:00, 34.4triple/s]\n",
      "INFO:pykeen.evaluation.evaluator:Evaluation took 7288.62s seconds\n",
      "Evaluating playlists for model: TransH: 100%|██████████████████████████████████████████████████████████████████████████████████████████████| 4701/4701 [25:46<00:00,  3.04it/s]\n"
     ]
    },
    {
     "data": {
      "image/png": "[encoded data removed]",
      "text/plain": [
       "<Figure size 640x480 with 2 Axes>"
      ]
     },
     "metadata": {},
     "output_type": "display_data"
    },
    {
     "name": "stdout",
     "output_type": "stream",
     "text": [
      "Model: TransH\n",
      "Average precision: 0.023941714528823654\n",
      "Average recalls: 0.011462181021838509\n",
      "\n",
      "\n"
     ]
    }
   ],
   "source": [
    "translational_model = TransR\n",
    "factorization_model = RESCAL\n",
    "other_model = TransH\n",
    "\n",
    "models_types = [translational_model, factorization_model, other_model]\n",
    "model_names = ['TransR', 'RESCAL', 'TransH']\n",
    "\n",
    "cutoff_idx = 4\n",
    "k = 20\n",
    "\n",
    "for model_type, model_name in zip(models_types, model_names):\n",
    "    precisions = []\n",
    "    recalls = []\n",
    "\n",
    "    # Train the model using the specified model\n",
    "    pipeline_result = pipeline(\n",
    "        training=training,\n",
    "        testing=testing,\n",
    "        validation=validation,\n",
    "        model=model_type,\n",
    "        epochs=3\n",
    "    )\n",
    "\n",
    "    model = pipeline_result.model\n",
    "\n",
    "    for playlist in tqdm(long_enough_test_playlists, desc=f'Evaluating playlists for model: {model_name}'):\n",
    "        # Use your predict_next_tracks function to get predictions for the playlist\n",
    "        predicted_tracks = predict_next_tracks(model, playlist[cutoff_idx], k)\n",
    "\n",
    "        # Ground truth tracks from cutoff_idx+1 to the end\n",
    "        actual_tracks = playlist[cutoff_idx + 1:]\n",
    "\n",
    "        # Calculate precision and recall for the playlist\n",
    "        playlist_precision = precision(predicted_tracks, actual_tracks)\n",
    "        playlist_recall = recall(predicted_tracks, actual_tracks)\n",
    "\n",
    "        precisions.append(playlist_precision)\n",
    "        recalls.append(playlist_recall)\n",
    "\n",
    "    # histogram z wynikami\n",
    "    fig, (ax1, ax2) = plt.subplots(1, 2)\n",
    "    ax1.hist(precisions, bins=20)\n",
    "    ax1.set_title('Precision')\n",
    "    ax2.hist(recalls, bins=20)\n",
    "    ax2.set_title('Recall')\n",
    "    plt.show()\n",
    "\n",
    "    print(f'Model: {model_name}\\nAverage precision: {np.mean(precisions)}\\nAverage recalls: {np.mean(recalls)}\\n\\n')"
   ]
  }
 ],
 "metadata": {
  "kernelspec": {
   "display_name": "Python 3 (ipykernel)",
   "language": "python",
   "name": "python3"
  },
  "language_info": {
   "codemirror_mode": {
    "name": "ipython",
    "version": 3
   },
   "file_extension": ".py",
   "mimetype": "text/x-python",
   "name": "python",
   "nbconvert_exporter": "python",
   "pygments_lexer": "ipython3",
   "version": "3.11.6"
  }
 },
 "nbformat": 4,
 "nbformat_minor": 5
}
